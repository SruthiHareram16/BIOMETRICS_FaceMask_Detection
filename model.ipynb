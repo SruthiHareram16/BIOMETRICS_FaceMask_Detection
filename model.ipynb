{
 "cells": [
  {
   "cell_type": "code",
   "execution_count": 51,
   "metadata": {},
   "outputs": [],
   "source": [
    "from tensorflow.keras.preprocessing.image import ImageDataGenerator\n",
    "from tensorflow.keras.applications import MobileNetV2\n",
    "from tensorflow.keras.layers import AveragePooling2D\n",
    "from tensorflow.keras.layers import Dropout\n",
    "from tensorflow.keras.layers import Flatten\n",
    "from tensorflow.keras.layers import Dense\n",
    "from tensorflow.keras.layers import Input\n",
    "from tensorflow.keras.models import Model\n",
    "from tensorflow.keras.optimizers import Adam\n",
    "from tensorflow.keras.applications.mobilenet_v2 import preprocess_input\n",
    "from tensorflow.keras.preprocessing.image import img_to_array\n",
    "from tensorflow.keras.preprocessing.image import load_img\n",
    "from tensorflow.keras.utils import to_categorical\n",
    "from sklearn.preprocessing import LabelBinarizer\n",
    "from sklearn.model_selection import train_test_split\n",
    "from sklearn.metrics import confusion_matrix\n",
    "from sklearn.metrics import accuracy_score\n",
    "from imutils import paths\n",
    "import matplotlib.pyplot as plt\n",
    "import numpy as np\n",
    "import os\n",
    "from tensorflow.keras.models import load_model"
   ]
  },
  {
   "cell_type": "code",
   "execution_count": 19,
   "metadata": {},
   "outputs": [
    {
     "name": "stderr",
     "output_type": "stream",
     "text": [
      "C:\\Users\\jayad\\anaconda3\\lib\\site-packages\\PIL\\Image.py:951: UserWarning: Palette images with Transparency expressed in bytes should be converted to RGBA images\n",
      "  warnings.warn(\n"
     ]
    }
   ],
   "source": [
    "imagePaths = list(paths.list_images('C:/Users/jayad/ENEL 645/Mask_detection/dataset/'))\n",
    "data = []\n",
    "labels = []\n",
    "# loop over the image paths\n",
    "for imagePath in imagePaths:\n",
    "\t# extract the class label from the filename\n",
    "\tlabel = imagePath.split(os.path.sep)[-2]\n",
    "\t# load the input image (224x224) and preprocess it\n",
    "\timage = load_img(imagePath, target_size=(224, 224))\n",
    "\timage = img_to_array(image)\n",
    "\timage = preprocess_input(image)\n",
    "\t# update the data and labels lists, respectively\n",
    "\tdata.append(image)\n",
    "\tlabels.append(label)\n",
    "# convert the data and labels to NumPy arrays\n",
    "data = np.array(data, dtype=\"float32\")\n",
    "labels = np.array(labels)"
   ]
  },
  {
   "cell_type": "code",
   "execution_count": 20,
   "metadata": {},
   "outputs": [],
   "source": [
    "baseModel = MobileNetV2(weights=\"imagenet\", include_top=False,\n",
    "\tinput_shape=(224, 224, 3))\n",
    "# construct the head of the model that will be placed on top of the\n",
    "# the base model\n",
    "headModel = baseModel.output\n",
    "headModel = AveragePooling2D(pool_size=(7, 7))(headModel)\n",
    "headModel = Flatten(name=\"flatten\")(headModel)\n",
    "headModel = Dense(128, activation=\"relu\")(headModel)\n",
    "headModel = Dropout(0.5)(headModel)\n",
    "headModel = Dense(2, activation=\"softmax\")(headModel)\n",
    "\n",
    "# place the head FC model on top of the base model (this will become\n",
    "# the actual model we will train)\n",
    "model = Model(inputs=baseModel.input, outputs=headModel)\n",
    "# loop over all layers in the base model and freeze them so they will\n",
    "# *not* be updated during the first training process\n",
    "for layer in baseModel.layers:\n",
    "\tlayer.trainable = False"
   ]
  },
  {
   "cell_type": "code",
   "execution_count": 21,
   "metadata": {},
   "outputs": [],
   "source": [
    "lb = LabelBinarizer()\n",
    "labels = lb.fit_transform(labels)\n",
    "labels = to_categorical(labels)\n",
    "# partition the data into training and testing splits using 80% of\n",
    "# the data for training and the remaining 20% for testing\n",
    "(trainX, testX, trainY, testY) = train_test_split(data, labels,\n",
    "\ttest_size=0.20, stratify=labels, random_state=42)\n",
    "# construct the training image generator for data augmentation\n",
    "aug = ImageDataGenerator(\n",
    "\trotation_range=20,\n",
    "\tzoom_range=0.15,\n",
    "\twidth_shift_range=0.2,\n",
    "\theight_shift_range=0.2,\n",
    "\tshear_range=0.15,\n",
    "\thorizontal_flip=True,\n",
    "\tfill_mode=\"nearest\")"
   ]
  },
  {
   "cell_type": "code",
   "execution_count": 22,
   "metadata": {},
   "outputs": [
    {
     "name": "stdout",
     "output_type": "stream",
     "text": [
      "[INFO] compiling model...\n",
      "[INFO] training head...\n",
      "Epoch 1/20\n",
      "102/102 [==============================] - 141s 1s/step - loss: 0.5923 - accuracy: 0.7208 - val_loss: 0.1873 - val_accuracy: 0.9707\n",
      "Epoch 2/20\n",
      "102/102 [==============================] - 125s 1s/step - loss: 0.1989 - accuracy: 0.9575 - val_loss: 0.0978 - val_accuracy: 0.9841\n",
      "Epoch 3/20\n",
      "102/102 [==============================] - 123s 1s/step - loss: 0.1094 - accuracy: 0.9735 - val_loss: 0.0724 - val_accuracy: 0.9853\n",
      "Epoch 4/20\n",
      "102/102 [==============================] - 130s 1s/step - loss: 0.1018 - accuracy: 0.9711 - val_loss: 0.0643 - val_accuracy: 0.9866\n",
      "Epoch 5/20\n",
      "102/102 [==============================] - 140s 1s/step - loss: 0.0753 - accuracy: 0.9798 - val_loss: 0.0523 - val_accuracy: 0.9878\n",
      "Epoch 6/20\n",
      "102/102 [==============================] - 124s 1s/step - loss: 0.0744 - accuracy: 0.9824 - val_loss: 0.0523 - val_accuracy: 0.9841\n",
      "Epoch 7/20\n",
      "102/102 [==============================] - 116s 1s/step - loss: 0.0611 - accuracy: 0.9801 - val_loss: 0.0466 - val_accuracy: 0.9878\n",
      "Epoch 8/20\n",
      "102/102 [==============================] - 119s 1s/step - loss: 0.0527 - accuracy: 0.9830 - val_loss: 0.0455 - val_accuracy: 0.9853\n",
      "Epoch 9/20\n",
      "102/102 [==============================] - 113s 1s/step - loss: 0.0457 - accuracy: 0.9906 - val_loss: 0.0434 - val_accuracy: 0.9866\n",
      "Epoch 10/20\n",
      "102/102 [==============================] - 118s 1s/step - loss: 0.0508 - accuracy: 0.9871 - val_loss: 0.0436 - val_accuracy: 0.9866\n",
      "Epoch 11/20\n",
      "102/102 [==============================] - 130s 1s/step - loss: 0.0407 - accuracy: 0.9874 - val_loss: 0.0431 - val_accuracy: 0.9890\n",
      "Epoch 12/20\n",
      "102/102 [==============================] - 111s 1s/step - loss: 0.0430 - accuracy: 0.9857 - val_loss: 0.0421 - val_accuracy: 0.9878\n",
      "Epoch 13/20\n",
      "102/102 [==============================] - 110s 1s/step - loss: 0.0360 - accuracy: 0.9878 - val_loss: 0.0392 - val_accuracy: 0.9902\n",
      "Epoch 14/20\n",
      "102/102 [==============================] - 114s 1s/step - loss: 0.0353 - accuracy: 0.9893 - val_loss: 0.0410 - val_accuracy: 0.9890\n",
      "Epoch 15/20\n",
      "102/102 [==============================] - 110s 1s/step - loss: 0.0380 - accuracy: 0.9886 - val_loss: 0.0397 - val_accuracy: 0.9890\n",
      "Epoch 16/20\n",
      "102/102 [==============================] - 112s 1s/step - loss: 0.0334 - accuracy: 0.9900 - val_loss: 0.0393 - val_accuracy: 0.9866\n",
      "Epoch 17/20\n",
      "102/102 [==============================] - 111s 1s/step - loss: 0.0290 - accuracy: 0.9905 - val_loss: 0.0375 - val_accuracy: 0.9902\n",
      "Epoch 18/20\n",
      "102/102 [==============================] - 115s 1s/step - loss: 0.0331 - accuracy: 0.9889 - val_loss: 0.0368 - val_accuracy: 0.9878\n",
      "Epoch 19/20\n",
      "102/102 [==============================] - 111s 1s/step - loss: 0.0303 - accuracy: 0.9909 - val_loss: 0.0390 - val_accuracy: 0.9902\n",
      "Epoch 20/20\n",
      "102/102 [==============================] - 118s 1s/step - loss: 0.0380 - accuracy: 0.9862 - val_loss: 0.0375 - val_accuracy: 0.9878\n"
     ]
    }
   ],
   "source": [
    "INIT_LR = 1e-4\n",
    "EPOCHS = 20\n",
    "BS = 32\n",
    "print(\"[INFO] compiling model...\")\n",
    "opt = Adam(lr=INIT_LR, decay=INIT_LR / EPOCHS)\n",
    "model.compile(loss=\"binary_crossentropy\", optimizer=opt,\n",
    "\tmetrics=[\"accuracy\"])\n",
    "# train the head of the network\n",
    "print(\"[INFO] training head...\")\n",
    "H = model.fit(\n",
    "\taug.flow(trainX, trainY, batch_size=BS),\n",
    "\tsteps_per_epoch=len(trainX) // BS,\n",
    "\tvalidation_data=(testX, testY),\n",
    "\tvalidation_steps=len(testX) // BS,\n",
    "\tepochs=EPOCHS)"
   ]
  },
  {
   "cell_type": "code",
   "execution_count": 23,
   "metadata": {},
   "outputs": [
    {
     "data": {
      "text/plain": [
       "<matplotlib.legend.Legend at 0x1fd5e1a0850>"
      ]
     },
     "execution_count": 23,
     "metadata": {},
     "output_type": "execute_result"
    },
    {
     "data": {
      "image/png": "[encoded data removed]",
      "text/plain": [
       "<Figure size 432x288 with 1 Axes>"
      ]
     },
     "metadata": {},
     "output_type": "display_data"
    }
   ],
   "source": [
    "N = EPOCHS\n",
    "plt.style.use(\"ggplot\")\n",
    "plt.figure()\n",
    "plt.plot(np.arange(0, N), H.history[\"loss\"], label=\"train_loss\")\n",
    "plt.plot(np.arange(0, N), H.history[\"val_loss\"], label=\"val_loss\")\n",
    "plt.plot(np.arange(0, N), H.history[\"accuracy\"], label=\"train_acc\")\n",
    "plt.plot(np.arange(0, N), H.history[\"val_accuracy\"], label=\"val_acc\")\n",
    "plt.title(\"Training Loss and Accuracy\")\n",
    "plt.xlabel(\"Epoch #\")\n",
    "plt.ylabel(\"Loss/Accuracy\")\n",
    "plt.legend(loc=\"lower left\")"
   ]
  },
  {
   "cell_type": "code",
   "execution_count": 24,
   "metadata": {},
   "outputs": [],
   "source": [
    "#To save the trained model\n",
    "#model.save('mask_recog_ver2.h5') #--> Version 2\n",
    "model.save('mask_recog_ver3.h5') #--> Version 3"
   ]
  },
  {
   "cell_type": "code",
   "execution_count": 9,
   "metadata": {},
   "outputs": [],
   "source": [
    "#model = load_model('mask_recog_ver2.h5')"
   ]
  },
  {
   "cell_type": "code",
   "execution_count": 42,
   "metadata": {},
   "outputs": [],
   "source": [
    "pred = model.predict(testX)\n",
    "pred1 = np.argmax(pred,axis=1)\n",
    "y_test = np.argmax(testY,axis=1)"
   ]
  },
  {
   "cell_type": "code",
   "execution_count": 43,
   "metadata": {},
   "outputs": [],
   "source": [
    "confsn_matrix = confusion_matrix(y_test,pred1)"
   ]
  },
  {
   "cell_type": "code",
   "execution_count": 45,
   "metadata": {},
   "outputs": [
    {
     "name": "stdout",
     "output_type": "stream",
     "text": [
      "[[428   5]\n",
      " [  5 381]]\n"
     ]
    }
   ],
   "source": [
    "print(conf_matrix)"
   ]
  },
  {
   "cell_type": "code",
   "execution_count": 54,
   "metadata": {},
   "outputs": [
    {
     "name": "stdout",
     "output_type": "stream",
     "text": [
      "Accuracy Score:  0.9877899877899878\n"
     ]
    }
   ],
   "source": [
    "print('Accuracy Score: ', accuracy_score(y_te,pred1))"
   ]
  },
  {
   "cell_type": "code",
   "execution_count": null,
   "metadata": {},
   "outputs": [],
   "source": []
  }
 ],
 "metadata": {
  "kernelspec": {
   "display_name": "Python 3",
   "language": "python",
   "name": "python3"
  },
  "language_info": {
   "codemirror_mode": {
    "name": "ipython",
    "version": 3
   },
   "file_extension": ".py",
   "mimetype": "text/x-python",
   "name": "python",
   "nbconvert_exporter": "python",
   "pygments_lexer": "ipython3",
   "version": "3.8.5"
  }
 },
 "nbformat": 4,
 "nbformat_minor": 4
}
